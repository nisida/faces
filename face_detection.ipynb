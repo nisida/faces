{
 "cells": [
  {
   "cell_type": "code",
   "execution_count": null,
   "metadata": {},
   "outputs": [],
   "source": [
    "import os\n",
    "import cv2\n",
    "\n",
    "MODEL            = 'haarcascade_frontalface_default.xml'\n",
    "TRAGET_FILES     = ['003.jpg', 'real_00001.jpg', 'real_00003.jpg', 'real_00004.jpg', 'real_00008.jpg', 'real_00018.jpg', 'real_00025.jpg', '003.jpg']\n",
    "CHECK_FILES      = ['real_00004.jpg', 'real_00008.jpg']\n",
    "TARGET_FILE_PATH = 'OK'\n",
    "FACTOR           = 2.0\n",
    "THICK            = 3\n",
    "RED              = (0, 0, 255)\n",
    "OUTPUT_PREFIX    = 'result_'\n",
    "\n",
    "def detect_write(cascade, fname, scale = FACTOR) :\n",
    "    \"\"\" １つの画像の顔検出を行う\n",
    "    Arg:\n",
    "        cas   : cv2.CascadeClassifier\n",
    "        fname : str : ファイル名\n",
    "    \"\"\"\n",
    "    fpath    = os.path.join(TARGET_FILE_PATH, fname)\n",
    "    img      = cv2.imread(fpath)\n",
    "    gray     = cv2.cvtColor(img, cv2.COLOR_BGR2GRAY)\n",
    "    faces    = cascade.detectMultiScale(gray, scaleFactor = scale) # scaleFactorを調べたい\n",
    "    \n",
    "    for (x, y, w, h) in faces :\n",
    "        cv2.rectangle(img, (x, y), (x + w, y + h),  color = RED, thickness = THICK)\n",
    "        \n",
    "    #output_file = OUTPUT_PREFIX + fname\n",
    "    #output_path = os.path.join(TARGET_FILE_PATH, output_file)\n",
    "    #ret = cv2.imwrite(output_path, img)\n",
    "    return faces\n",
    "\n",
    "def findout_all_files(target = TRAGET_FILES, scale = FACTOR) :\n",
    "    cascade = cv2.CascadeClassifier(MODEL)\n",
    "    for fn in target :  # test data (TARGET_FILES) loop\n",
    "        faces = detect_write(cascade, fn, scale = scale)\n",
    "    return\n",
    "\n",
    "findout_all_files(target = TRAGET_FILES, scale = 2.6) # チェック対象のみ処理する scale = 2.0 がベスト?\n"
   ]
  }
 ],
 "metadata": {
  "kernelspec": {
   "display_name": "3.10.6",
   "language": "python",
   "name": "python3"
  },
  "language_info": {
   "name": "python",
   "version": "3.10.6"
  }
 },
 "nbformat": 4,
 "nbformat_minor": 2
}
